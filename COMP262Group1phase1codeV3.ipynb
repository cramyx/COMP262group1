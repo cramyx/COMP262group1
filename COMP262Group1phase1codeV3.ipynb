{
 "cells": [
  {
   "cell_type": "code",
   "execution_count": 3,
   "id": "7e4973f2-ab8c-4511-a6ea-479d7db1fd4d",
   "metadata": {},
   "outputs": [],
   "source": [
    "import pandas as pd\n",
    "import json\n",
    "import matplotlib.pyplot as plt\n",
    "import seaborn as sns\n",
    "from textblob import TextBlob\n",
    "from nltk.sentiment import SentimentIntensityAnalyzer\n",
    "import nltk\n",
    "from sklearn.metrics import classification_report"
   ]
  },
  {
   "cell_type": "code",
   "execution_count": 2,
   "id": "a6b773aa-bab9-4677-99aa-55f2da38e747",
   "metadata": {},
   "outputs": [
    {
     "name": "stderr",
     "output_type": "stream",
     "text": [
      "[nltk_data] Downloading package vader_lexicon to\n",
      "[nltk_data]     C:\\Users\\bless\\AppData\\Roaming\\nltk_data...\n"
     ]
    },
    {
     "data": {
      "text/plain": [
       "True"
      ]
     },
     "execution_count": 2,
     "metadata": {},
     "output_type": "execute_result"
    }
   ],
   "source": [
    "# Downloading necessary resources\n",
    "nltk.download('vader_lexicon')"
   ]
  },
  {
   "cell_type": "code",
   "execution_count": 4,
   "id": "70372582-2ef0-4339-ae9c-972441e72dea",
   "metadata": {},
   "outputs": [],
   "source": [
    "# Loading the processed dataset \n",
    "\n",
    "file_path = \"C:/Users/bless/COMP262group1/AMAZON_FASHION_5.json\"\n",
    "\n",
    "def load_json_lines(path):\n",
    "    data = []\n",
    "    with open(path, 'r', encoding='utf-8') as f:\n",
    "        for line in f:\n",
    "            try:\n",
    "                data.append(json.loads(line))\n",
    "            except json.JSONDecodeError as e:\n",
    "                print(f\"Error decoding JSON at line {len(data)}: {e}\")\n",
    "    return pd.DataFrame(data)\n",
    "\n",
    "df = load_json_lines(file_path)"
   ]
  },
  {
   "cell_type": "code",
   "execution_count": 7,
   "id": "0e8c6f44-2974-4030-b18b-7a9261308570",
   "metadata": {},
   "outputs": [],
   "source": [
    "# Generating sentiment labels from 'overall' ratings\n",
    "\n",
    "def map_sentiment(rating):\n",
    "    if rating >= 4:\n",
    "        return \"Positive\"\n",
    "    elif rating == 3:\n",
    "        return \"Neutral\"\n",
    "    else:\n",
    "        return \"Negative\"\n",
    "\n",
    "df['sentiment'] = df['overall'].apply(map_sentiment)\n",
    "\n",
    "# Ensure 'reviewText' column has no missing values\n",
    "df['reviewText'] = df['reviewText'].fillna(\"\").astype(str)\n",
    "\n",
    "# Initialize VADER sentiment analyzer\n",
    "sia = SentimentIntensityAnalyzer()\n",
    "\n",
    "def vader_sentiment(text):\n",
    "    \"\"\"Classifies sentiment using VADER\"\"\"\n",
    "    if not isinstance(text, str):  # Converting non-string values to empty strings\n",
    "        text = \"\"\n",
    "    score = sia.polarity_scores(text)\n",
    "    return \"Positive\" if score['compound'] > 0 else \"Negative\" if score['compound'] < 0 else \"Neutral\"\n",
    "\n",
    "def textblob_sentiment(text):\n",
    "    \"\"\"Classifies sentiment using TextBlob\"\"\"\n",
    "    if not isinstance(text, str):  # Converting non-string values to empty strings\n",
    "        text = \"\"\n",
    "    score = TextBlob(text).sentiment.polarity\n",
    "    return \"Positive\" if score > 0 else \"Negative\" if score < 0 else \"Neutral\""
   ]
  },
  {
   "cell_type": "code",
   "execution_count": 8,
   "id": "176473f4-b856-492c-bf89-560bbd772742",
   "metadata": {},
   "outputs": [],
   "source": [
    "# Applying sentiment analysis\n",
    "\n",
    "df['VADER_Sentiment'] = df['reviewText'].apply(vader_sentiment)\n",
    "df['TextBlob_Sentiment'] = df['reviewText'].apply(textblob_sentiment)"
   ]
  },
  {
   "cell_type": "code",
   "execution_count": 9,
   "id": "c277967a-552c-4957-9779-55f2f92d1aab",
   "metadata": {},
   "outputs": [
    {
     "name": "stdout",
     "output_type": "stream",
     "text": [
      "VADER Sentiment Analysis Report:\n",
      "              precision    recall  f1-score   support\n",
      "\n",
      "    Negative       0.48      0.46      0.47       210\n",
      "     Neutral       0.23      0.17      0.20       337\n",
      "    Positive       0.89      0.92      0.91      2629\n",
      "\n",
      "    accuracy                           0.81      3176\n",
      "   macro avg       0.53      0.52      0.52      3176\n",
      "weighted avg       0.79      0.81      0.80      3176\n",
      "\n",
      "TextBlob Sentiment Analysis Report:\n",
      "              precision    recall  f1-score   support\n",
      "\n",
      "    Negative       0.42      0.40      0.41       210\n",
      "     Neutral       0.11      0.06      0.08       337\n",
      "    Positive       0.87      0.93      0.90      2629\n",
      "\n",
      "    accuracy                           0.80      3176\n",
      "   macro avg       0.47      0.46      0.46      3176\n",
      "weighted avg       0.76      0.80      0.78      3176\n",
      "\n"
     ]
    }
   ],
   "source": [
    "# Model performance comparison\n",
    "\n",
    "print(\"VADER Sentiment Analysis Report:\")\n",
    "print(classification_report(df['sentiment'], df['VADER_Sentiment']))\n",
    "\n",
    "print(\"TextBlob Sentiment Analysis Report:\")\n",
    "print(classification_report(df['sentiment'], df['TextBlob_Sentiment']))"
   ]
  },
  {
   "cell_type": "code",
   "execution_count": 10,
   "id": "2154d8de-a47d-4941-825c-7b3032df4d5e",
   "metadata": {},
   "outputs": [
    {
     "name": "stdout",
     "output_type": "stream",
     "text": [
      "Results saved to sentiment_analysis_results.csv\n"
     ]
    }
   ],
   "source": [
    "# Saving the results to CSV\n",
    "df.to_csv(\"sentiment_analysis_results.csv\", index=False)\n",
    "print(\"Results saved to sentiment_analysis_results.csv\")"
   ]
  },
  {
   "cell_type": "code",
   "execution_count": 14,
   "id": "c759890e-e74c-43af-b3f6-9906295c45a0",
   "metadata": {},
   "outputs": [
    {
     "name": "stdout",
     "output_type": "stream",
     "text": [
      "model_comparison.csv saved!\n",
      "sentiment_analysis_results.csv saved!\n"
     ]
    }
   ],
   "source": [
    "# Model Evaluation and Comparison\n",
    "\n",
    "evaluation_results = {\n",
    "    \"Metric\": [\"Accuracy\", \"Precision\", \"Recall\", \"F1-Score\"],\n",
    "    \"VADER\": [0.81, 0.53, 0.52, 0.52],  \n",
    "    \"TextBlob\": [0.80, 0.47, 0.46, 0.46] \n",
    "}\n",
    "df_eval = pd.DataFrame(evaluation_results)\n",
    "\n",
    "# Saving the CSV files\n",
    "df_eval.to_csv(\"C:/Users/bless/COMP262group1/model_comparison.csv\", index=False)\n",
    "print(\"model_comparison.csv saved!\")\n",
    "df = pd.read_json(\"C:/Users/bless/COMP262group1/AMAZON_FASHION_5.json\", lines=True)\n",
    "df.to_csv(\"C:/Users/bless/COMP262group1/sentiment_analysis_results.csv\", index=False)\n",
    "print(\"sentiment_analysis_results.csv saved!\")"
   ]
  },
  {
   "cell_type": "code",
   "execution_count": 12,
   "id": "6aa60777-a4fb-41ea-9a69-e7d1b615ede1",
   "metadata": {},
   "outputs": [
    {
     "data": {
      "text/plain": [
       "<Figure size 800x500 with 0 Axes>"
      ]
     },
     "metadata": {},
     "output_type": "display_data"
    },
    {
     "data": {
      "image/png": "[encoded data removed]",
      "text/plain": [
       "<Figure size 640x480 with 1 Axes>"
      ]
     },
     "metadata": {},
     "output_type": "display_data"
    }
   ],
   "source": [
    "# Visualizing Model Performance\n",
    "\n",
    "plt.figure(figsize=(8, 5))\n",
    "df_eval.set_index(\"Metric\").plot(kind=\"bar\", colormap=\"coolwarm\", edgecolor=\"black\")\n",
    "plt.title(\"Model Performance Comparison: VADER vs. TextBlob\")\n",
    "plt.xlabel(\"Metric\")\n",
    "plt.ylabel(\"Score\")\n",
    "plt.xticks(rotation=0)\n",
    "plt.legend(title=\"Models\")\n",
    "plt.show()"
   ]
  },
  {
   "cell_type": "code",
   "execution_count": null,
   "id": "609bf9ff-b6d5-4f92-a44e-6c8ff5e27c3e",
   "metadata": {},
   "outputs": [],
   "source": []
  }
 ],
 "metadata": {
  "kernelspec": {
   "display_name": "Python 3 (ipykernel)",
   "language": "python",
   "name": "python3"
  },
  "language_info": {
   "codemirror_mode": {
    "name": "ipython",
    "version": 3
   },
   "file_extension": ".py",
   "mimetype": "text/x-python",
   "name": "python",
   "nbconvert_exporter": "python",
   "pygments_lexer": "ipython3",
   "version": "3.12.3"
  }
 },
 "nbformat": 4,
 "nbformat_minor": 5
}
